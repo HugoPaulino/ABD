{
 "cells": [
  {
   "cell_type": "markdown",
   "metadata": {},
   "source": [
    "# Objects and Methods"
   ]
  },
  {
   "cell_type": "markdown",
   "metadata": {},
   "source": [
    "## Modos de funcionamento\n",
    "O `Python` tem dois modos de funcionamento: **iterative mode** e **standard mode**.\n",
    "\n",
    "Exemplo: programa python e o ipython."
   ]
  },
  {
   "cell_type": "markdown",
   "metadata": {},
   "source": [
    "## Core do python\n",
    "\n",
    "- todos os dados em Python são representados por objectos e suas relações.\n",
    "- objectos que mudam a sua execução chama-se **mutable objects**, enquanto que os que os que não mudam chamam-se de **immutable objects**\n",
    "- o Python consiste em todos os elementos chamados core, como os tipos de dados e built-in functions, mas a maioria das bibliotecas consistem em módulos. Para usar os módulos é necessário primeiro importá-los.\n"
   ]
  },
  {
   "cell_type": "markdown",
   "metadata": {},
   "source": [
    "## Objectos\n",
    "\n",
    "Cada objecto em python tem 3 características:\n",
    "\n",
    "- **object type** ex: número, string, list, etc..\n",
    "- **object value**: os dados contidos no objecto, por ex: um número específico\n",
    "- **identity number**: cada objecto é indentificado por um número distinto\n",
    "\n",
    "Os objectos podem conter dados e/ou funções."
   ]
  },
  {
   "cell_type": "markdown",
   "metadata": {},
   "source": [
    "# Jupyter\n",
    "\n",
    "Introdução e uso"
   ]
  },
  {
   "cell_type": "markdown",
   "metadata": {},
   "source": [
    "# Modules and Methods"
   ]
  },
  {
   "cell_type": "markdown",
   "metadata": {},
   "source": [
    "\n",
    "- Os módulos são bibliotecas de código\n",
    "- podem ser usados recorrendo ao comando `import`\n",
    "\n",
    "Exemplo:\n",
    "\n",
    "    import math\n",
    "    math.pi\n",
    "    math.sqrt(10)\n",
    "    from math import pi\n",
    "\n",
    "A **namespace** is a container of names shared by objects that typically go together, and its intention is to prevent naming conflicts.\n",
    "\n",
    "Exemplo:\n",
    "\n",
    "    import math\n",
    "    import numpy as np\n",
    "    math.sqrt\n",
    "    np.sqrt"
   ]
  },
  {
   "cell_type": "markdown",
   "metadata": {},
   "source": [
    "What happens when you use the `import` statement:\n",
    "\n",
    "1. creates a new namespace\n",
    "2. executes the code of module within this newly created namespace\n",
    "3. creates a name (e.g. np for numpy) and this name references this new namespace\n"
   ]
  },
  {
   "cell_type": "markdown",
   "metadata": {},
   "source": [
    "Exemplo: saber o tipo de um objecto\n",
    "\n",
    "    name = \"João\"\n",
    "    type(name)\n",
    "    \n",
    "Exemplo: saber os métodos de um tipo\n",
    "\n",
    "    dir(name)\n",
    "    dir(str) <-- é o mesmo\n",
    "    \n",
    "Saber mais info:\n",
    "\n",
    "    name.upper\n",
    "    name.upper()\n",
    "    help(name.upper())\n",
    "    help(name.upper)"
   ]
  },
  {
   "cell_type": "markdown",
   "metadata": {},
   "source": [
    "## Comandos simples e ambiente de trabalho"
   ]
  },
  {
   "cell_type": "markdown",
   "metadata": {},
   "source": [
    "### Instruções simples\n",
    "Experimente as seguintes instruções simples:\n",
    "\n",
    "    1+1\n",
    "    4+2*3\n",
    "    6 / 7\n",
    "    6 // 7 (floor or integer division)\n",
    "    x = 2\n",
    "    y = 3\n",
    "    z = x+y\n",
    "    print(z)\n",
    "    print(\"Hello world\")"
   ]
  },
  {
   "cell_type": "markdown",
   "metadata": {},
   "source": [
    "### Random Choice\n",
    "\n",
    "    import random\n",
    "    random.choice([2,44,55,66]) (diferença entre o shift-enter e outros)\n",
    "    random.choice([\"aa\", \"bb\", \"cc\"])\n",
    "cuidado:\n",
    "\n",
    "    random.choice((2,3,3))\n"
   ]
  },
  {
   "cell_type": "markdown",
   "metadata": {},
   "source": [
    "### Command history\n",
    "\n",
    "Todos os comandos introduzidos iterativamente e o resultado das suas execuções ficam guardandos nas variáveis `In` e `Out`. \n",
    "\n",
    "É possível por isso usá-los posteriormente recorrendo às variáveis \\_, \\_\\_ e \\_\\_\\_, para os três últimos resultados, e \\_i, \\_ii e \\_iii para os três últimos comandos.\n",
    "\n",
    "    10*1.23\n",
    "    _ + 10"
   ]
  },
  {
   "cell_type": "markdown",
   "metadata": {},
   "source": [
    "### Tab completion\n",
    "\n",
    "Uma das melhores funcionalidades é o _tab completion_. Ele permite completar a escrita de um comando, e nos casos em que há mais do que uma hipótese, ele mostra a lista de possíveis comandos. Também funciona para nomes de directorias e ficheiros.\n",
    "\n",
    "Experimente escrever:\n",
    "    \n",
    "    `pri`\n",
    "    `print(\"ola\",`"
   ]
  },
  {
   "cell_type": "markdown",
   "metadata": {},
   "source": [
    "### Informação detalhada sobre os objectos definidos\n",
    "\n",
    "É possível visualizar quais os objectos definidos no workspace através do comando `whos`.\n",
    "\n",
    "    whos"
   ]
  },
  {
   "cell_type": "markdown",
   "metadata": {},
   "source": [
    "### Apagar uma variável\n",
    "\n",
    "Para apagar uma variável e/ou objecto, use o comando `del`. \n",
    "\n",
    "    del x\n",
    "    whos"
   ]
  },
  {
   "cell_type": "markdown",
   "metadata": {},
   "source": [
    "### Limpar o workspace\n",
    "\n",
    "É possível apagar todas as variáveis e funções definidas e/ou importadas de uma só vez através do comando `%reset`. A opção `-f` não pede confirmação.\n",
    "\n",
    "    %reset -f\n",
    "    %reset"
   ]
  },
  {
   "cell_type": "markdown",
   "metadata": {},
   "source": [
    "### Obter ajuda sobre um comando\n",
    "Para obter ajuda sobre um comando pode usar-se o `?` a seguir ao mesmo. Por exemplo: `whos?`\n",
    "\n",
    "Existem também os comandos `help()` e o `dir()`. Nota: o comando `dir()` lista os métodos de um determinado objecto (ou instância).\n",
    "    \n",
    "    whos?"
   ]
  },
  {
   "cell_type": "markdown",
   "metadata": {},
   "source": [
    "### Magic commands\n",
    "Existem uma série de comandos denominados \"mágicos\" (_magic commands_) que começam pelo carácter `%`. \n",
    "\n",
    "- Para obter a lista de comandos disponíveis introduza `%lsmagic`.\n",
    "- Para mais informações em geral digite o comando `%magic`.\n",
    "\n",
    "Um comando _magic_ introduzido numa única linha deve começar pelo carácter `%` (_line magic_). No caso de um comando com várias linhas, deve usar-se `%%` (_cell magic_).\n",
    "\n",
    "Alguns magics úteis:\n",
    "\n",
    "- `!`: executa um comando de `shell`. Exemplo: `! ls -l`\n",
    "- `%pylab inline`: carrega o módulo `numpy` (como `np`) e o móculo `matplotlib` \"inline\"\n",
    "- `%bash`: executa uma célula como um processo `bash`\n",
    "- `%time`: avalia o tempo de execução de um comando\n",
    "- `%%latex`: interpreta a célula como latex\n",
    "- `%timeit`: avalia o tempo de execução de um comando várias vezes, e mostra o tempo médio\n",
    "- `%reset`: apaga as variáveis do _workspace_\n",
    "- `%bookmark`: (permite guardar uma localização do disco, i.e. a directoria actual, para usar mais tarde)\n",
    "- `%hist -o`: (history: devolve a lista de comandos executados)"
   ]
  },
  {
   "cell_type": "markdown",
   "metadata": {},
   "source": [
    "### Criar um ficheiro\n",
    "\n",
    "O comando `%%file` permite criar um ficheiro de texto.\n",
    "\n",
    "    %%file script.py\n",
    "    x = 10\n",
    "    y = x**2\n",
    "    print (\"x = %d, e y = %d\" %(x,y))"
   ]
  },
  {
   "cell_type": "markdown",
   "metadata": {},
   "source": [
    "### Executar um script em Python\n",
    "\n",
    "O conjunto de vários comandos podem ser guardados num ficheiro com a extensão `.py` e executados posteriormente. \n",
    "\n",
    "Para executar usa-se o comando `run`:\n",
    "\n",
    "    run script.py\n"
   ]
  },
  {
   "cell_type": "markdown",
   "metadata": {},
   "source": [
    "### Profiling\n",
    "\n",
    "O `python` dispõe de um conjunto de ferramentes de _profiling_. São elas:\n",
    "\n",
    "    %timeit [x*x for x in range(10000)]\n",
    "    %run -t script.py\n",
    "    %prun (ou %run -p) script.py"
   ]
  },
  {
   "cell_type": "markdown",
   "metadata": {},
   "source": [
    "### Guardar o workspace\n",
    "O espaço de trabalho, isto é as variáveis, pode ser gravado através do módulo `pickle`. Alternativamente pode também ser usado o módulo `shelve`.\n",
    "\n",
    "    pickle.dump(x, open( \"teste.bin\", \"wb\" ))\n",
    "    y = pickle.load(open( \"teste.bin\", \"rb\" ))\n",
    "    pickle.dump([x, y], open( \"teste.bin\", \"wb\" ))\n",
    "    (x,y) = pickle.load(open( \"teste.bin\", \"rb\" ))"
   ]
  },
  {
   "cell_type": "markdown",
   "metadata": {},
   "source": [
    "# Tipos de dados primitivos"
   ]
  },
  {
   "cell_type": "markdown",
   "metadata": {},
   "source": [
    "## String\n",
    "\n",
    "O tipo de dados primitivo `string` permite guardar uma cadeia de caracteres. Uma cadeia de caracteres define-se  entre aspas \"\" ou plicas ''.\n",
    "\n",
    "Caracteres especiais (_escape characteres_) podem definir-se usando carácter `\\` seguido de uma letra. Por exemplo `\\n` define uma nova linha.\n",
    "\n",
    "    x=\"ola\"\n",
    "    print(x)\n",
    "    y=\"ola\\nTudo bem?\"\n",
    "    print(y)"
   ]
  },
  {
   "cell_type": "markdown",
   "metadata": {},
   "source": [
    "O comando `print` aceita vários argumentos e opções:\n",
    "\n",
    "    print(x,y)\n",
    "    \n",
    "    print(\"ola \", end='')\n",
    "    print(\"tudo bem?)\n",
    "    "
   ]
  },
  {
   "cell_type": "markdown",
   "metadata": {},
   "source": [
    "### Concatenação e comprimento\n",
    "\n",
    "    s = \"ola\" + \"joão\"\n",
    "    print(s)\n",
    "    \n",
    "    len(s)\n",
    "    \n",
    "    s=\"-\"*20\n",
    "    print(s)"
   ]
  },
  {
   "cell_type": "markdown",
   "metadata": {},
   "source": [
    "### String %\n",
    "\n",
    "    x = 10\n",
    "    y = 3.33e-5\n",
    "    print(\"x = %d, y = %f ou y = %g\" %(x,y,y))\n",
    "    \n",
    "    t = \"joao\"\n",
    "    w = \"ola %s\" %t"
   ]
  },
  {
   "cell_type": "markdown",
   "metadata": {},
   "source": [
    "### Slices\n",
    "\n",
    "Um _slice_ permite aceder a um elemento, ou a um conjunto de elementos de uma variável.\n",
    "\n",
    "`s[inicio:fim]`. Por exemplo, seja `s = \"Hello\"`.\n",
    "\n",
    "    s[1:4]\n",
    "    s[1:]\n",
    "    s[:]\n",
    "    s[1:100]\n"
   ]
  },
  {
   "cell_type": "markdown",
   "metadata": {},
   "source": [
    "Os _slices_ também podem ser negativos. Nesse caso os índices contam a partir do fim. Como forma de visualizar o resultado esperado, consider-se o seguinte _esquema_ de numeração para os índices:\n",
    "\n",
    "     +---+---+---+---+---+\n",
    "     | H | E | L | L | O |\n",
    "     +---+---+---+---+---+\n",
    "       0   1   2   3   4\n",
    "      -5  -4  -3  -2  -1\n",
    "      \n",
    "      \n",
    "    s[:-1]\n",
    "    s[-4:-2]\n",
    "    s[-3:]"
   ]
  },
  {
   "cell_type": "markdown",
   "metadata": {},
   "source": [
    "**Importante:**\n",
    "\n",
    "    s[:n] + s[n:] == s"
   ]
  },
  {
   "cell_type": "markdown",
   "metadata": {},
   "source": [
    "### Inteiros&ensp;e&ensp;decimais\n",
    "\n",
    "Ao atribuir um valor a uma variável, o tipo de dados por defeito é inteiro (`int`). Se tiver parte decimal então é um `float`.\n",
    "\n",
    "    x=2\n",
    "    type(x)\n",
    "    \n",
    "    x=2.\n",
    "    type(x)"
   ]
  },
  {
   "cell_type": "markdown",
   "metadata": {},
   "source": [
    "### Booleanos\n",
    "\n",
    "O tipo de dados `boolean` permite guardar dois valores: verdadeiro (`True`) e false (`False`). Ao contrário da linguagem C, é um tipo de dados próprio.\n",
    "\n",
    "    x = True\n",
    "    y = False\n",
    "    type(y)"
   ]
  },
  {
   "cell_type": "markdown",
   "metadata": {},
   "source": [
    "### Operadores\n",
    "\n",
    "#### Operadores&ensp;aritméticos\n",
    "\n",
    "Operador | Descrição | Exemplo\n",
    ":-:|-|- \n",
    "`+` | adição | x = y+2\n",
    "`-` | subtração | x = y-2\n",
    "`*` | multiplicação | x = 3*y\n",
    "`/` | divisão (por defeito inteira se operandos forem inteiros) | x = y / 2\n",
    "`//` | divisão inteira (independentemente dos operandos) | x = 3.0 // 2.\n",
    "`**` | exponenciação | x = 2**4\n",
    "`%` | resto da divisão inteira | x = 5%4"
   ]
  },
  {
   "cell_type": "markdown",
   "metadata": {},
   "source": [
    "#### Operadores&ensp;relacionais\n",
    "\n",
    "Operador | Descrição\n",
    ":-:|-\n",
    "`<` | menor\n",
    "`<=` | menor ou igual\n",
    "`>` | maior\n",
    "`>=` | maior ou igual\n",
    "`==` | igual\n",
    "`!=` ou `<>` | diferente"
   ]
  },
  {
   "cell_type": "markdown",
   "metadata": {},
   "source": [
    "#### Operadores&ensp;lógicos\n",
    "\n",
    "Operador | Descrição\n",
    ":-:|-\n",
    "`or` | dijunção - \"ou\"\n",
    "`and` | conjunção - \"e\"\n",
    "`not` | negação - \"não\""
   ]
  },
  {
   "cell_type": "markdown",
   "metadata": {},
   "source": [
    "#### Operadores&ensp;de&ensp;inclusão\n",
    "\n",
    "`in` e `not in`\n",
    "\n",
    "    letra = \"s\"\n",
    "    palavra = \"operadores\"\n",
    "    letra in palavra\n",
    "    \n",
    "  "
   ]
  },
  {
   "cell_type": "markdown",
   "metadata": {},
   "source": [
    "#### Operadores&ensp;de&ensp;identidade\n",
    "\n",
    "Uma particularidade do `python` é que o operador `=` na maior parte dos casos não copia um objecto, mas devolve uma referência para o mesmo. Para testar se dois objectos partilham a mesma posição de memória podem usar-se os operadores de identidade.\n",
    "\n",
    "Operador | Descrição\n",
    ":-:|-\n",
    "`is` | devolve verdadeiro se duas variáveis apontam para o mesmo objecto\n",
    "`is not` | devolve falso se duas variáveis não apontam para o mesmo objecto"
   ]
  },
  {
   "cell_type": "markdown",
   "metadata": {},
   "source": [
    "### Atenção!!!\n",
    "`==` e `!=` vs `is` e `is not`\n",
    "\n",
    "    [2,3] == [3,3]\n",
    "    [2,3] == [2,3]\n",
    "    [2,3] is [2,3]\n",
    "    \n",
    "    x=[2,3]\n",
    "    y = x\n",
    "    y is x\n",
    "    \n",
    "    x=[2,3]\n",
    "    y = x\n",
    "    y is x\n",
    "    \n",
    "**Nota: ver o id de um objecto:**\n",
    "\n",
    "    id(x)\n",
    "    id(y)\n",
    "    \n",
    "Para copiar estruturas complexas pode usar-se o módulo `copy`\n",
    "\n",
    "    import copy\n",
    "    x = [1,[2]]\n",
    "    y = copy.copy(x)"
   ]
  },
  {
   "cell_type": "markdown",
   "metadata": {},
   "source": [
    "#### Operadores&ensp;de&ensp;atribuição\n",
    "\n",
    "O `python` dispõe dos seguintes operadores de atribuição:\n",
    "\n",
    "Operador | Descrição \n",
    ":-:|- | -\n",
    "`=` | Atribui os valores à direita do operador aos operandos à esquerda. Exemplo: `c = a + b` \n",
    "`+=` | `c += a` é equivalente a `c = c + a` \n",
    "`-=` | `c -= a` é equivalente a  `c = c - a` \n",
    "`*=` | `c *= a` é equivalente a  `c = c * a` \n",
    "`/=` | `c /= a`  é equivalente a  `c = c / a` \n",
    "`%=` | `c %= a`  é equivalente a  `c = c % a` \n",
    "`**=` | `c **= a`  é equivalente a  `c = c ** a` \n",
    "`//=` | `c //= a`  é equivalente a  `c = c // a` \n",
    "`<<=` | `c <<= a`  é equivalente a  `c = c << a` \n",
    "`>>=` | `c >>= a`  é equivalente a  `c = c >> a` "
   ]
  },
  {
   "cell_type": "markdown",
   "metadata": {},
   "source": [
    "# Sequências\n",
    "\n",
    "- Em Python, uma sequência é uma colecção de objectos ordenada pela sua posição\n",
    "\n",
    "- três tipos básicos de sequências: listas, tuplos e \"range objects\"\n",
    "- todos eles suportam _sequence operations_\n",
    "- é possível usar _slices_ em sequências\n"
   ]
  },
  {
   "cell_type": "markdown",
   "metadata": {},
   "source": [
    "## Listas\n",
    "\n",
    "Lists are **mutable** sequencies of objects of any type\n",
    "\n",
    "(strings are immutable)\n",
    "\n",
    "    lista = ['machine', 'learning', 2017]\n",
    "    numbers = [1,2,3,4]"
   ]
  },
  {
   "cell_type": "markdown",
   "metadata": {},
   "source": [
    "    lista[2] = 'is the best'\n",
    "    del lista[2]\n",
    "    numbers.append(10)\n",
    "    \n",
    "    x = [12, 14, 16]\n",
    "    numbers + x\n",
    "    \n",
    "    numbers.reverse()\n",
    "    \n",
    "    names=[\"Joao\", \"Antonio\", \"Pedro\"]\n",
    "    names.sort() \n",
    "    \n",
    "    len(names)"
   ]
  },
  {
   "cell_type": "markdown",
   "metadata": {},
   "source": [
    "## Tuples\n",
    "\n",
    "Tuples are **immutable** sequences typically used to store heterogeneous data. It can be seen as a single object that consists of several different parts.\n",
    "\n",
    "Once common use is to return more than one object from a Python function."
   ]
  },
  {
   "cell_type": "markdown",
   "metadata": {},
   "source": [
    "    tup1 = ('big', 'data', 2016)\n",
    "    tup2 = (1,2,3,4,5,6)"
   ]
  },
  {
   "cell_type": "markdown",
   "metadata": {},
   "source": [
    "#### Operações básicas\n",
    "\n",
    "O acesso aos elementos faz-se usando os parêntesis rectos `[  ]`, e aplicam-se as regras de _slicing_:\n",
    "\n",
    "    tup1[0:2]\n",
    "    tup2[-1]\n",
    "\n",
    "**Não é possível alterar os valores ou os elementos de um tuplo**. Mas é possível criar novos tuplos a partir de um ou vários tuplos.\n",
    "\n",
    "Existem as operações básicas `+` (concatenação) e `*` (repetição), que resultam num novo tuplo.\n",
    "\n",
    "    ('big',)*3\n",
    "    (1,2,3)+(4,5,6)\n",
    "\n",
    "#### Pack and unpack tupples\n",
    "\n",
    "    x = 12\n",
    "    y = 13\n",
    "    coordenada = (x,y)\n",
    "    type(coordenada)\n",
    "    \n",
    "    (c1,c2) = coordenada"
   ]
  },
  {
   "cell_type": "markdown",
   "metadata": {},
   "source": [
    "#### tuplos com apenas um elemento\n",
    "\n",
    "    c = (2,3)\n",
    "    type(c)\n",
    "    \n",
    "    c = (2)\n",
    "    type(c)\n",
    "    \n",
    "    c = (2,)\n",
    "    type(c)\n",
    "    "
   ]
  },
  {
   "cell_type": "markdown",
   "metadata": {},
   "source": [
    "## Ranges\n",
    "\n",
    "Ranges are **immutable sequences of integers** (range object!)\n",
    "\n",
    "    range(0,5)\n",
    "    \n",
    "    list(range(5))\n",
    "    \n",
    "    list(range(1,13,2))\n",
    "    \n",
    "**Atenção: ** um range é mais poupado, apenas guarda três números!"
   ]
  },
  {
   "cell_type": "markdown",
   "metadata": {},
   "source": [
    "## Sets\n",
    "\n",
    "Os `sets` são uma colecção de elementos sem repetições. Os objectos do tipo `set` suportam operações matemáticas como `union`, `intersection`, `diference` e `symmetric difference`.\n",
    "\n",
    "    colors = {'blue', 'red', 'green', 'orange', 'red'}\n",
    "    colors\n",
    "    \n",
    "    'green' in colors\n",
    "    'yellow' in colors\n",
    "    \n",
    "    lesscolors = set(['blue', 'green', 'yellow'])\n",
    "    \n",
    "    colors - lesscolors\n",
    "    colors | lesscolors\n",
    "    colors & lesscolors\n",
    "    colors ^ lesscolors\n",
    "\n",
    "\n",
    "Adicionar ou remover elementos:\n",
    "\n",
    "    colors.add('black')\n",
    "    colors.pop()"
   ]
  },
  {
   "cell_type": "markdown",
   "metadata": {},
   "source": [
    "## Dicionários\n",
    "\n",
    "Os dicionários são mapas entre _key objects_ para _value objects_.\n",
    "\n",
    "Os _key objects_ têm de ser imutáveis!\n",
    "\n",
    "Os dicionários podem ser criados com chavetas `{ }` ou usando o construtor `dict()`:\n",
    "\n",
    "    telefones = {'joao': 123, 'pedro': 124, 'antónio': 125}\n",
    "    salas = dict([('joao', 'D604'), ('pedro', 'D605')])\n",
    "    meses = dict(jan=31, fev=29, mar=31)\n",
    "    \n",
    "#### Acesso aos elementos de um dicionário    \n",
    "    \n",
    "O acesso aos elementos de um dicionátio faz-se usando os parêntesis rectos `[  ]` e indicando a _key_ correspondente:\n",
    "    \n",
    "    telefones['joao']\n",
    "    salas['pedro'] = 'D606'\n",
    "    \n",
    "Para apagar um elemento, pode usar-se o comando `del`:\n",
    "    \n",
    "    del salas['pedro']  # remove a entrada com a key 'pedro' \n",
    "    meses.clear();      # remove todos os elementos do dicionário\n",
    "    del meses ;         # apaga o dicionário\n",
    "    \n",
    "#### Métodos\n",
    "\n",
    "Na tabela seguinte listam-se um conjunto de métodos disponíveis para objectos do tipo dicionário (atenção que existem mais).\n",
    "\n",
    "Método | Descrição\n",
    "-|-\n",
    "`dict.clear()` | remove todos os elementos do dicionário `dict`\n",
    "`dict.copy()` | devolve uma cópia do dicionário `dict`\n",
    "`dict.keys()` | devolve uma lista com as `keys` do dicionário `dict`\n",
    "`dict.values()` | devolve uma lista com os elementos do dicionário `dict`\n",
    "`dict.items()` | devolve uma lista de tuplos (`key`, `value`) a partir do dicionário `dict`\n",
    "`dict.has_key(key)` | devolve `true` se a `key` existe no dicionário `dict`"
   ]
  },
  {
   "cell_type": "code",
   "execution_count": 90,
   "metadata": {},
   "outputs": [],
   "source": [
    "meses = dict(jan=31, fev=29, mar=31)"
   ]
  },
  {
   "cell_type": "code",
   "execution_count": 91,
   "metadata": {},
   "outputs": [
    {
     "data": {
      "text/plain": [
       "{'fev': 29, 'jan': 31, 'mar': 31}"
      ]
     },
     "execution_count": 91,
     "metadata": {},
     "output_type": "execute_result"
    }
   ],
   "source": [
    "meses"
   ]
  },
  {
   "cell_type": "markdown",
   "metadata": {},
   "source": [
    "# Estruturas de Controlo\n"
   ]
  },
  {
   "cell_type": "markdown",
   "metadata": {},
   "source": [
    "## Identação\n",
    "\n",
    "- um bloco de código começa com o carácter `:`\n",
    "- usar o TAB\n",
    "- seleccionar um bloco de código e usar o TAB ou shift TAB"
   ]
  },
  {
   "cell_type": "markdown",
   "metadata": {},
   "source": [
    "## Ifs\n",
    "\n",
    "    \n",
    "    x = 10\n",
    "    \n",
    "    if x>5:\n",
    "        print(\"maior que 5\")\n",
    "    else:\n",
    "        print(\"menor ou igual a 5\")\n",
    "        \n",
    "    if x>5:\n",
    "        print(\"maior que 5\")\n",
    "    elif x==5:\n",
    "        print(\"igual a 5\")\n",
    "    else:\n",
    "        print(\"menor que 5\")\n",
    "       "
   ]
  },
  {
   "cell_type": "markdown",
   "metadata": {},
   "source": [
    "## Expressões condicionais\n",
    "\n",
    "    x = 10\n",
    "    valor = 'positivo' if x>0 else 'falso'\n",
    "    print (valor)"
   ]
  },
  {
   "cell_type": "markdown",
   "metadata": {},
   "source": [
    "## while\n",
    "\n",
    "    x = 10\n",
    "    while x > 0:\n",
    "        print (x)\n",
    "        x -= 1"
   ]
  },
  {
   "cell_type": "markdown",
   "metadata": {},
   "source": [
    "## for\n",
    "\n",
    "    lista = ['ola', 'bom', 'dia']\n",
    "    for item in lista:\n",
    "        print(item)"
   ]
  },
  {
   "cell_type": "markdown",
   "metadata": {},
   "source": [
    "    for i in range(2,10,2):\n",
    "        print(i)"
   ]
  },
  {
   "cell_type": "markdown",
   "metadata": {},
   "source": [
    "    coordinates = [(i, i**2) for i in range(10)]\n",
    "    coordinates"
   ]
  },
  {
   "cell_type": "markdown",
   "metadata": {},
   "source": [
    "    for (x, y) in coordinates:\n",
    "        print(x,y)"
   ]
  },
  {
   "cell_type": "markdown",
   "metadata": {},
   "source": [
    "    for point in coordinates:\n",
    "        print(point)"
   ]
  },
  {
   "cell_type": "markdown",
   "metadata": {},
   "source": [
    "    lista = [1, -2, 4, 5, -3, -5, 2, 7]\n",
    "    novalista = [item for item in lista if item >= 0]\n",
    "    novalista"
   ]
  },
  {
   "cell_type": "markdown",
   "metadata": {},
   "source": [
    "    letras = 'ABC'\n",
    "    numeros = '123'\n",
    "    lista = [ l+n for l in letras for n in numeros ]"
   ]
  },
  {
   "cell_type": "markdown",
   "metadata": {},
   "source": [
    "# Funções\n",
    "\n",
    "    def fib(n):    # write Fibonacci series up to n\n",
    "       \"\"\"Print a Fibonacci series up to n.\"\"\"\n",
    "       a, b = 0, 1\n",
    "       while a < n:\n",
    "         print (a,\"\", end='')\n",
    "         a, b = b, a+b\n"
   ]
  },
  {
   "cell_type": "markdown",
   "metadata": {},
   "source": [
    "Devolver mais do que um valor:\n",
    "\n",
    "    def quadrados_ate_n(n):\n",
    "        return [(i,i**2) for i in range(1,n+1)]"
   ]
  },
  {
   "cell_type": "markdown",
   "metadata": {},
   "source": [
    "## Argumentos"
   ]
  },
  {
   "cell_type": "markdown",
   "metadata": {},
   "source": [
    "Argumentos opcionais:\n",
    "\n",
    "    def varios(x, y=10, z=20):\n",
    "        print (\"x=%d, y=%d, z=%d\" %(x,y,z))\n",
    "       \n",
    "       \n",
    "    varios(2)\n",
    "    varios(2,4)\n",
    "    varios(2,z=1)"
   ]
  },
  {
   "cell_type": "markdown",
   "metadata": {},
   "source": [
    "É possível receber um número variável de argumentos (e respectivas keyworkds)"
   ]
  },
  {
   "cell_type": "markdown",
   "metadata": {},
   "source": [
    "## Funções anónimas"
   ]
  },
  {
   "cell_type": "markdown",
   "metadata": {},
   "source": [
    "    sqr = lambda x: x**2\n",
    "    sqr(5)"
   ]
  },
  {
   "cell_type": "markdown",
   "metadata": {},
   "source": [
    "Uma função pode devolver uma função:\n",
    "\n",
    "    def make_incrementor(n):\n",
    "            return lambda x: x + n\n",
    "        \n",
    "    incrementa4 = make_incrementor(4)\n",
    "    incrementa4(5)"
   ]
  },
  {
   "cell_type": "markdown",
   "metadata": {},
   "source": [
    "Exemplo:\n",
    "\n",
    "    pairs = [(1, 'one'), (2, 'two'), (3, 'three'), (4, 'four')]\n",
    "    pairs.sort(key=lambda pair: pair[1])\n",
    "    pairs"
   ]
  },
  {
   "cell_type": "markdown",
   "metadata": {},
   "source": [
    "# Classes e programação por objectos"
   ]
  },
  {
   "cell_type": "markdown",
   "metadata": {},
   "source": [
    "    # by putting (list), in inherits from class list\n",
    "    class MyList(list):\n",
    "        def remove_min(self):\n",
    "            self.remove(min(self))\n",
    "        def remove_max(self):\n",
    "            self.remove(max(self))\n",
    "\n",
    "    x = [10,3, 5, 1, 2, 7, 6, 4, 8]\n",
    "    y = MyList(x)\n",
    "    y\n",
    "    \n",
    "    y.remove_max()\n",
    "    y"
   ]
  },
  {
   "cell_type": "markdown",
   "metadata": {},
   "source": []
  },
  {
   "cell_type": "code",
   "execution_count": null,
   "metadata": {
    "collapsed": true
   },
   "outputs": [],
   "source": []
  }
 ],
 "metadata": {
  "kernelspec": {
   "display_name": "Python 3",
   "language": "python",
   "name": "python3"
  },
  "language_info": {
   "codemirror_mode": {
    "name": "ipython",
    "version": 3
   },
   "file_extension": ".py",
   "mimetype": "text/x-python",
   "name": "python",
   "nbconvert_exporter": "python",
   "pygments_lexer": "ipython3",
   "version": "3.6.3"
  }
 },
 "nbformat": 4,
 "nbformat_minor": 2
}
